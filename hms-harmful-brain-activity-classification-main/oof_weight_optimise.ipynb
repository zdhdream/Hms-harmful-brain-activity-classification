{
 "cells": [
  {
   "cell_type": "code",
   "execution_count": 1,
   "id": "f7ed4082-45d7-4b77-8c27-9f2bdfc1feb5",
   "metadata": {},
   "outputs": [],
   "source": [
    "from scipy.optimize import minimize, fsolve\n",
    "import datetime\n",
    "import torch.nn.functional as F\n",
    "from numba import njit\n",
    "import time\n",
    "import pandas as pd\n",
    "import numpy as np"
   ]
  },
  {
   "cell_type": "code",
   "execution_count": 2,
   "id": "4dafb22e-7a00-4c81-b338-ebc6d6c0bab7",
   "metadata": {},
   "outputs": [],
   "source": [
    "import numpy as np\n",
    "import pandas as pd\n",
    "import pandas.api.types\n",
    "\n",
    "import kaggle_metric_utilities\n",
    "\n",
    "from typing import Optional\n",
    "\n",
    "\n",
    "class ParticipantVisibleError(Exception):\n",
    "    pass\n",
    "\n",
    "\n",
    "def kl_divergence(solution: pd.DataFrame, submission: pd.DataFrame, epsilon: float, micro_average: bool, sample_weights: Optional[pd.Series]):\n",
    "    # Overwrite solution for convenience\n",
    "    for col in solution.columns:\n",
    "        # Prevent issue with populating int columns with floats\n",
    "        if not pandas.api.types.is_float_dtype(solution[col]):\n",
    "            solution[col] = solution[col].astype(float)\n",
    "\n",
    "        # Clip both the min and max following Kaggle conventions for related metrics like log loss\n",
    "        # Clipping the max avoids cases where the loss would be infinite or undefined, clipping the min\n",
    "        # prevents users from playing games with the 20th decimal place of predictions.\n",
    "        submission[col] = np.clip(submission[col], epsilon, 1 - epsilon)\n",
    "\n",
    "        y_nonzero_indices = solution[col] != 0\n",
    "        solution[col] = solution[col].astype(float)\n",
    "        solution.loc[y_nonzero_indices, col] = solution.loc[y_nonzero_indices, col] * np.log(solution.loc[y_nonzero_indices, col] / submission.loc[y_nonzero_indices, col])\n",
    "        # Set the loss equal to zero where y_true equals zero following the scipy convention:\n",
    "        # https://docs.scipy.org/doc/scipy/reference/generated/scipy.special.rel_entr.html#scipy.special.rel_entr\n",
    "        solution.loc[~y_nonzero_indices, col] = 0\n",
    "\n",
    "    if micro_average:\n",
    "        return np.average(solution.sum(axis=1), weights=sample_weights)\n",
    "    else:\n",
    "        return np.average(solution.mean())\n",
    "\n",
    "\n",
    "def calc_kl_score(\n",
    "        #solution: pd.DataFrame,\n",
    "        submission: pd.DataFrame,\n",
    "        #row_id_column_name: str,\n",
    "        epsilon: float=10**-15,\n",
    "        micro_average: bool=True,\n",
    "        sample_weights_column_name: Optional[str]=None\n",
    "    ) -> float:\n",
    "    ''' The Kullback–Leibler divergence.\n",
    "    The KL divergence is technically undefined/infinite where the target equals zero.\n",
    "\n",
    "    This implementation always assigns those cases a score of zero; effectively removing them from consideration.\n",
    "    The predictions in each row must add to one so any probability assigned to a case where y == 0 reduces\n",
    "    another prediction where y > 0, so crucially there is an important indirect effect.\n",
    "\n",
    "    https://en.wikipedia.org/wiki/Kullback%E2%80%93Leibler_divergence\n",
    "\n",
    "    solution: pd.DataFrame\n",
    "    submission: pd.DataFrame\n",
    "    epsilon: KL divergence is undefined for p=0 or p=1. If epsilon is not null, solution and submission probabilities are clipped to max(eps, min(1 - eps, p).\n",
    "    row_id_column_name: str\n",
    "    micro_average: bool. Row-wise average if True, column-wise average if False.\n",
    "\n",
    "    Examples\n",
    "    --------\n",
    "    >>> import pandas as pd\n",
    "    >>> row_id_column_name = \"id\"\n",
    "    >>> score(pd.DataFrame({'id': range(4), 'ham': [0, 1, 1, 0], 'spam': [1, 0, 0, 1]}), pd.DataFrame({'id': range(4), 'ham': [.1, .9, .8, .35], 'spam': [.9, .1, .2, .65]}), row_id_column_name=row_id_column_name)\n",
    "    0.216161...\n",
    "    >>> solution = pd.DataFrame({'id': range(3), 'ham': [0, 0.5, 0.5], 'spam': [0.1, 0.5, 0.5], 'other': [0.9, 0, 0]})\n",
    "    >>> submission = pd.DataFrame({'id': range(3), 'ham': [0, 0.5, 0.5], 'spam': [0.1, 0.5, 0.5], 'other': [0.9, 0, 0]})\n",
    "    >>> score(solution, submission, 'id')\n",
    "    0.0\n",
    "    >>> solution = pd.DataFrame({'id': range(3), 'ham': [0, 0.5, 0.5], 'spam': [0.1, 0.5, 0.5], 'other': [0.9, 0, 0]})\n",
    "    >>> submission = pd.DataFrame({'id': range(3), 'ham': [0.2, 0.3, 0.5], 'spam': [0.1, 0.5, 0.5], 'other': [0.7, 0.2, 0]})\n",
    "    >>> score(solution, submission, 'id')\n",
    "    0.160531...\n",
    "    '''\n",
    "    #del solution[row_id_column_name]\n",
    "    #del submission[row_id_column_name]\n",
    "\n",
    "    submission = pd.DataFrame(submission.copy())\n",
    "    solution = pd.DataFrame(gt.copy())\n",
    "\n",
    "    submission = submission.rename(columns=str)\n",
    "    solution = solution.rename(columns=str)\n",
    "\n",
    "    sample_weights = None\n",
    "    if sample_weights_column_name:\n",
    "        if sample_weights_column_name not in solution.columns:\n",
    "            raise ParticipantVisibleError(f'{sample_weights_column_name} not found in solution columns')\n",
    "        sample_weights = solution.pop(sample_weights_column_name)\n",
    "\n",
    "    if sample_weights_column_name and not micro_average:\n",
    "        raise ParticipantVisibleError('Sample weights are only valid if `micro_average` is `True`')\n",
    "\n",
    "    for col in solution.columns:\n",
    "        if col not in submission.columns:\n",
    "            raise ParticipantVisibleError(f'Missing submission column {col}')\n",
    "\n",
    "    kaggle_metric_utilities.verify_valid_probabilities(solution, 'solution')\n",
    "    kaggle_metric_utilities.verify_valid_probabilities(submission, 'submission')\n",
    "\n",
    "\n",
    "    #return kaggle_metric_utilities.safe_call_score(kl_divergence, solution, submission, epsilon=epsilon, micro_average=micro_average, sample_weights=sample_weights)\n",
    "    return kaggle_metric_utilities.safe_call_score(kl_divergence, solution, submission, epsilon=epsilon, micro_average=micro_average, sample_weights=sample_weights)"
   ]
  },
  {
   "cell_type": "code",
   "execution_count": 3,
   "id": "91e53387-3d62-4984-9109-b2edddfb6bb9",
   "metadata": {},
   "outputs": [],
   "source": [
    "def calc_score(y_pred):\n",
    "    return calc_kl_score(y_pred)\n",
    "\n",
    "def func_to_optimise(weights):\n",
    "    pred_blend = np.tensordot(weights, preds, axes = ((0), (0)))\n",
    "    score = calc_score(pred_blend)\n",
    "    return score"
   ]
  },
  {
   "cell_type": "code",
   "execution_count": 4,
   "id": "884c3b21-d7ba-4784-a605-b5eb905b70b2",
   "metadata": {},
   "outputs": [],
   "source": [
    "TARGET = [str(i) for i in range(6)]"
   ]
  },
  {
   "cell_type": "code",
   "execution_count": 5,
   "id": "dcc6b2a5-a80b-411c-8ccf-11a0bd004d33",
   "metadata": {},
   "outputs": [
    {
     "data": {
      "text/html": [
       "<div>\n",
       "<style scoped>\n",
       "    .dataframe tbody tr th:only-of-type {\n",
       "        vertical-align: middle;\n",
       "    }\n",
       "\n",
       "    .dataframe tbody tr th {\n",
       "        vertical-align: top;\n",
       "    }\n",
       "\n",
       "    .dataframe thead th {\n",
       "        text-align: right;\n",
       "    }\n",
       "</style>\n",
       "<table border=\"1\" class=\"dataframe\">\n",
       "  <thead>\n",
       "    <tr style=\"text-align: right;\">\n",
       "      <th></th>\n",
       "      <th>0</th>\n",
       "      <th>1</th>\n",
       "      <th>2</th>\n",
       "      <th>3</th>\n",
       "      <th>4</th>\n",
       "      <th>5</th>\n",
       "    </tr>\n",
       "  </thead>\n",
       "  <tbody>\n",
       "    <tr>\n",
       "      <th>0</th>\n",
       "      <td>0.002031</td>\n",
       "      <td>0.002744</td>\n",
       "      <td>0.000507</td>\n",
       "      <td>0.013308</td>\n",
       "      <td>0.143733</td>\n",
       "      <td>0.837677</td>\n",
       "    </tr>\n",
       "    <tr>\n",
       "      <th>1</th>\n",
       "      <td>0.005207</td>\n",
       "      <td>0.081833</td>\n",
       "      <td>0.028754</td>\n",
       "      <td>0.134870</td>\n",
       "      <td>0.014029</td>\n",
       "      <td>0.735306</td>\n",
       "    </tr>\n",
       "    <tr>\n",
       "      <th>2</th>\n",
       "      <td>0.022369</td>\n",
       "      <td>0.498195</td>\n",
       "      <td>0.000466</td>\n",
       "      <td>0.202691</td>\n",
       "      <td>0.012980</td>\n",
       "      <td>0.263298</td>\n",
       "    </tr>\n",
       "    <tr>\n",
       "      <th>3</th>\n",
       "      <td>0.053309</td>\n",
       "      <td>0.117337</td>\n",
       "      <td>0.219126</td>\n",
       "      <td>0.032437</td>\n",
       "      <td>0.227241</td>\n",
       "      <td>0.350550</td>\n",
       "    </tr>\n",
       "    <tr>\n",
       "      <th>4</th>\n",
       "      <td>0.014600</td>\n",
       "      <td>0.698387</td>\n",
       "      <td>0.012280</td>\n",
       "      <td>0.055857</td>\n",
       "      <td>0.032832</td>\n",
       "      <td>0.186044</td>\n",
       "    </tr>\n",
       "  </tbody>\n",
       "</table>\n",
       "</div>"
      ],
      "text/plain": [
       "          0         1         2         3         4         5\n",
       "0  0.002031  0.002744  0.000507  0.013308  0.143733  0.837677\n",
       "1  0.005207  0.081833  0.028754  0.134870  0.014029  0.735306\n",
       "2  0.022369  0.498195  0.000466  0.202691  0.012980  0.263298\n",
       "3  0.053309  0.117337  0.219126  0.032437  0.227241  0.350550\n",
       "4  0.014600  0.698387  0.012280  0.055857  0.032832  0.186044"
      ]
     },
     "execution_count": 5,
     "metadata": {},
     "output_type": "execute_result"
    }
   ],
   "source": [
    "itk009 = pd.read_csv('res009/oof_ema.csv')[TARGET]\n",
    "itk010 = pd.read_csv('res010/oof_ema.csv')[TARGET]\n",
    "itk014 = pd.read_csv('res014/oof_ema_14.csv')[TARGET]\n",
    "itk009.head()"
   ]
  },
  {
   "cell_type": "code",
   "execution_count": 6,
   "id": "276899d0-2874-4e1c-ba6e-d76a4d0522e3",
   "metadata": {},
   "outputs": [
    {
     "data": {
      "text/html": [
       "<div>\n",
       "<style scoped>\n",
       "    .dataframe tbody tr th:only-of-type {\n",
       "        vertical-align: middle;\n",
       "    }\n",
       "\n",
       "    .dataframe tbody tr th {\n",
       "        vertical-align: top;\n",
       "    }\n",
       "\n",
       "    .dataframe thead th {\n",
       "        text-align: right;\n",
       "    }\n",
       "</style>\n",
       "<table border=\"1\" class=\"dataframe\">\n",
       "  <thead>\n",
       "    <tr style=\"text-align: right;\">\n",
       "      <th></th>\n",
       "      <th>0</th>\n",
       "      <th>1</th>\n",
       "      <th>2</th>\n",
       "      <th>3</th>\n",
       "      <th>4</th>\n",
       "      <th>5</th>\n",
       "    </tr>\n",
       "  </thead>\n",
       "  <tbody>\n",
       "    <tr>\n",
       "      <th>0</th>\n",
       "      <td>0.0</td>\n",
       "      <td>0.000000</td>\n",
       "      <td>0.0</td>\n",
       "      <td>0.000000</td>\n",
       "      <td>0.0</td>\n",
       "      <td>1.000000</td>\n",
       "    </tr>\n",
       "    <tr>\n",
       "      <th>1</th>\n",
       "      <td>0.0</td>\n",
       "      <td>0.333333</td>\n",
       "      <td>0.0</td>\n",
       "      <td>0.000000</td>\n",
       "      <td>0.0</td>\n",
       "      <td>0.666667</td>\n",
       "    </tr>\n",
       "    <tr>\n",
       "      <th>2</th>\n",
       "      <td>0.0</td>\n",
       "      <td>0.000000</td>\n",
       "      <td>0.0</td>\n",
       "      <td>1.000000</td>\n",
       "      <td>0.0</td>\n",
       "      <td>0.000000</td>\n",
       "    </tr>\n",
       "    <tr>\n",
       "      <th>3</th>\n",
       "      <td>0.0</td>\n",
       "      <td>0.000000</td>\n",
       "      <td>0.0</td>\n",
       "      <td>0.000000</td>\n",
       "      <td>1.0</td>\n",
       "      <td>0.000000</td>\n",
       "    </tr>\n",
       "    <tr>\n",
       "      <th>4</th>\n",
       "      <td>0.0</td>\n",
       "      <td>0.785714</td>\n",
       "      <td>0.0</td>\n",
       "      <td>0.142857</td>\n",
       "      <td>0.0</td>\n",
       "      <td>0.071429</td>\n",
       "    </tr>\n",
       "  </tbody>\n",
       "</table>\n",
       "</div>"
      ],
      "text/plain": [
       "     0         1    2         3    4         5\n",
       "0  0.0  0.000000  0.0  0.000000  0.0  1.000000\n",
       "1  0.0  0.333333  0.0  0.000000  0.0  0.666667\n",
       "2  0.0  0.000000  0.0  1.000000  0.0  0.000000\n",
       "3  0.0  0.000000  0.0  0.000000  1.0  0.000000\n",
       "4  0.0  0.785714  0.0  0.142857  0.0  0.071429"
      ]
     },
     "execution_count": 6,
     "metadata": {},
     "output_type": "execute_result"
    }
   ],
   "source": [
    "gt = pd.read_csv('res009/gt.csv')[TARGET]\n",
    "gt.head()"
   ]
  },
  {
   "cell_type": "code",
   "execution_count": 7,
   "id": "9e9b8f2f-bb6e-41e3-8ed2-96394585e293",
   "metadata": {},
   "outputs": [],
   "source": [
    "preds_dict = {\n",
    "    'itk_009': itk009,\n",
    "    'itk_010': itk010,\n",
    "    'itk_014': itk014,\n",
    "}"
   ]
  },
  {
   "cell_type": "code",
   "execution_count": 8,
   "id": "2718846f-2c53-4e64-b889-80cce4187d68",
   "metadata": {},
   "outputs": [],
   "source": [
    "preds = np.zeros((len(preds_dict), len(gt), 6))\n",
    "for i in range(preds.shape[0]):\n",
    "    preds[i] = list(preds_dict.values())[i]"
   ]
  },
  {
   "cell_type": "code",
   "execution_count": 9,
   "id": "de56331d-307a-4734-89a7-eef27ae9284c",
   "metadata": {},
   "outputs": [
    {
     "name": "stdout",
     "output_type": "stream",
     "text": [
      "itk_009                                  KLD_Loss: 0.5475537147321641\n",
      "itk_010                                  KLD_Loss: 0.5493073973918222\n",
      "itk_014                                  KLD_Loss: 0.5425283404735844\n",
      "------------------------------------------------------------\n",
      "CPU times: user 59.9 ms, sys: 98 µs, total: 60 ms\n",
      "Wall time: 59.5 ms\n"
     ]
    }
   ],
   "source": [
    "%%time\n",
    "\n",
    "kl_scores = {}\n",
    "for n, key in enumerate(preds_dict.keys()):\n",
    "    score_val = calc_score(preds[n])\n",
    "    kl_scores[key] = score_val\n",
    "    print(f'{key:40s} KLD_Loss:', score_val)\n",
    "    \n",
    "print('-' * 60)"
   ]
  },
  {
   "cell_type": "code",
   "execution_count": 10,
   "id": "6fbd6721-de7a-4daf-9fc0-40cb3f19e8d4",
   "metadata": {},
   "outputs": [
    {
     "name": "stdout",
     "output_type": "stream",
     "text": [
      "0 itk_009\n",
      "1 itk_010\n",
      "2 itk_014\n"
     ]
    },
    {
     "data": {
      "text/plain": [
       "(array([0.5, 1.5, 2.5]),\n",
       " [Text(0, 0.5, '0'), Text(0, 1.5, '1'), Text(0, 2.5, '2')])"
      ]
     },
     "execution_count": 10,
     "metadata": {},
     "output_type": "execute_result"
    },
    {
     "data": {
      "image/png": "[encoded data removed]",
      "text/plain": [
       "<Figure size 1500x1200 with 2 Axes>"
      ]
     },
     "metadata": {},
     "output_type": "display_data"
    }
   ],
   "source": [
    "import matplotlib.pyplot as plt\n",
    "import matplotlib.style as style\n",
    "import seaborn as sns\n",
    "from matplotlib import pyplot\n",
    "from matplotlib.ticker import ScalarFormatter\n",
    "sns.set_context(\"talk\")\n",
    "style.use('fivethirtyeight')\n",
    "\n",
    "subs = np.zeros((len(preds_dict), len(gt), 6))\n",
    "\n",
    "for i, p in enumerate(preds_dict.keys()):\n",
    "    print(i,p)\n",
    "    subs[i,:,:] = list(preds_dict.values())[i]\n",
    "    \n",
    "corr = np.corrcoef(subs.reshape(len(preds_dict), -1))\n",
    "\n",
    "# Set up the matplotlib figure\n",
    "f, ax = plt.subplots(figsize=(15, 12))\n",
    "\n",
    "# Generate a custom diverging colormap\n",
    "cmap = sns.diverging_palette(220, 10, as_cmap=True)\n",
    "\n",
    "# Draw the heatmap with the mask and correct aspect ratio\n",
    "sns.heatmap(corr, cmap=cmap, annot=True, fmt=\"g\",\n",
    "            square=True, linewidths=.5, cbar_kws={\"shrink\": .5}, ax=ax)\n",
    "ax.set_ylim(corr.shape[0], 0)\n",
    "plt.yticks(rotation=0)"
   ]
  },
  {
   "cell_type": "code",
   "execution_count": 11,
   "id": "47dcfc33-05d3-4b15-bdf3-97a7b360cc23",
   "metadata": {},
   "outputs": [
    {
     "name": "stdout",
     "output_type": "stream",
     "text": [
      "Inital Blend KLD: 0.5155936111163437\n",
      "Optimization terminated successfully    (Exit mode 0)\n",
      "            Current function value: 0.5154752712217557\n",
      "            Iterations: 10\n",
      "            Function evaluations: 40\n",
      "            Gradient evaluations: 10\n",
      "[00:01] Optimised Blend Loss: 0.5154752712217557 , Optimised Blend KLD_Loss: 0.5154752712217557\n",
      "Optimised Weights: [0.30376698 0.3221606  0.37407242]\n",
      "----------------------------------------------------------------------\n",
      "itk_009                                  Optimised Weights: 0.3037669760587401\n",
      "itk_010                                  Optimised Weights: 0.32216060277245323\n",
      "itk_014                                  Optimised Weights: 0.37407242116880673\n"
     ]
    }
   ],
   "source": [
    "tol = 1e-10\n",
    "init_guess = [1 / preds.shape[0]] * preds.shape[0]\n",
    "bnds = [(0, 1) for _ in range(preds.shape[0])]\n",
    "cons = {'type': 'eq', \n",
    "        'fun': lambda x: np.sum(x) - 1, \n",
    "        'jac': lambda x: [1] * len(x)}\n",
    "\n",
    "print('Inital Blend KLD:', func_to_optimise(init_guess))\n",
    "start_time = time.time()\n",
    "\n",
    "res_scipy = minimize(fun = func_to_optimise, \n",
    "                     x0 = init_guess, \n",
    "                     method = 'SLSQP', \n",
    "                     tol = tol,\n",
    "                     bounds = bnds,\n",
    "                     #jac = grad_func_jit, \n",
    "                     constraints = cons,\n",
    "                     options={\"disp\":True,\"maxiter\":1000})\n",
    "\n",
    "print(f'[{str(datetime.timedelta(seconds = time.time() - start_time))[2:7]}] Optimised Blend Loss:', res_scipy.fun, ', Optimised Blend KLD_Loss:', func_to_optimise(res_scipy.x))\n",
    "print('Optimised Weights:', res_scipy.x)\n",
    "print('-' * 70)\n",
    "\n",
    "for n, key in enumerate(preds_dict.keys()):\n",
    "    print(f'{key:40s} Optimised Weights:', res_scipy.x[n])"
   ]
  },
  {
   "cell_type": "code",
   "execution_count": 12,
   "id": "621b9919-1c99-489e-8b76-4d0999239165",
   "metadata": {},
   "outputs": [
    {
     "data": {
      "text/plain": [
       "array([0.30376698, 0.3221606 , 0.37407242])"
      ]
     },
     "execution_count": 12,
     "metadata": {},
     "output_type": "execute_result"
    }
   ],
   "source": [
    "ws = [res_scipy.x[i] for i in range(len(preds_dict.keys()))]\n",
    "ws = ws / np.sum(ws)\n",
    "ws"
   ]
  },
  {
   "cell_type": "code",
   "execution_count": null,
   "id": "430c8b6d-8dac-4716-914b-bb077d207bed",
   "metadata": {},
   "outputs": [],
   "source": []
  },
  {
   "cell_type": "code",
   "execution_count": null,
   "id": "05e04aec-1a90-46f6-80a2-805d60de82be",
   "metadata": {},
   "outputs": [],
   "source": []
  },
  {
   "cell_type": "code",
   "execution_count": null,
   "id": "369d7941-7b3a-4f52-b6d6-35c5fa8289a1",
   "metadata": {},
   "outputs": [],
   "source": []
  },
  {
   "cell_type": "code",
   "execution_count": null,
   "id": "082322f2-85a8-46ff-a9f6-a3b68800f557",
   "metadata": {},
   "outputs": [],
   "source": []
  }
 ],
 "metadata": {
  "kernelspec": {
   "display_name": "Python 3 (ipykernel)",
   "language": "python",
   "name": "python3"
  },
  "language_info": {
   "codemirror_mode": {
    "name": "ipython",
    "version": 3
   },
   "file_extension": ".py",
   "mimetype": "text/x-python",
   "name": "python",
   "nbconvert_exporter": "python",
   "pygments_lexer": "ipython3",
   "version": "3.10.12"
  }
 },
 "nbformat": 4,
 "nbformat_minor": 5
}
