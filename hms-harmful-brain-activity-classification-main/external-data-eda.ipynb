{
 "cells": [
  {
   "cell_type": "code",
   "execution_count": 1,
   "metadata": {},
   "outputs": [],
   "source": [
    "import numpy as np\n",
    "import pandas as pd\n",
    "import matplotlib.pyplot as plt"
   ]
  },
  {
   "cell_type": "code",
   "execution_count": 24,
   "metadata": {},
   "outputs": [],
   "source": [
    "eeg_seizure_train = np.load(\"data\\EEG-Seizure-Analysis\\eeg-seizure_train.npz\", allow_pickle=True)\n",
    "eeg_seizure_val = np.load(\"data\\EEG-Seizure-Analysis\\eeg-seizure_val.npz\", allow_pickle=True)\n",
    "eeg_seizure_balanced = np.load(\"data\\EEG-Seizure-Analysis\\eeg-predictive_val_balanced.npz\", allow_pickle=True)\n",
    "eeg_predictive_train = np.load(\"data\\EEG-Seizure-Analysis\\eeg-predictive_train.npz\", allow_pickle=True)\n",
    "eeg_predictive_val = np.load(\"data\\EEG-Seizure-Analysis\\eeg-seizure_val.npz\", allow_pickle=True)\n",
    "eeg_predictive_balanced = np.load(\"data\\EEG-Seizure-Analysis\\eeg-predictive_val_balanced.npz\", allow_pickle=True)"
   ]
  },
  {
   "cell_type": "code",
   "execution_count": 25,
   "metadata": {},
   "outputs": [
    {
     "name": "stdout",
     "output_type": "stream",
     "text": [
      "train_signals\n",
      "train_labels\n"
     ]
    }
   ],
   "source": [
    "for key in eeg_seizure_train.keys():\n",
    "    print(key)"
   ]
  },
  {
   "cell_type": "code",
   "execution_count": 26,
   "metadata": {},
   "outputs": [],
   "source": [
    "train_signals = eeg_predictive_train[\"train_signals\"]\n",
    "train_labels = eeg_predictive_train[\"train_labels\"]"
   ]
  },
  {
   "cell_type": "code",
   "execution_count": 27,
   "metadata": {},
   "outputs": [
    {
     "data": {
      "text/plain": [
       "(8282, 23, 256)"
      ]
     },
     "execution_count": 27,
     "metadata": {},
     "output_type": "execute_result"
    }
   ],
   "source": [
    "train_signals.shape"
   ]
  },
  {
   "cell_type": "code",
   "execution_count": 28,
   "metadata": {},
   "outputs": [
    {
     "data": {
      "text/plain": [
       "(8282,)"
      ]
     },
     "execution_count": 28,
     "metadata": {},
     "output_type": "execute_result"
    },
    {
     "ename": "",
     "evalue": "",
     "output_type": "error",
     "traceback": [
      "\u001b[1;31mThe Kernel crashed while executing code in the the current cell or a previous cell. Please review the code in the cell(s) to identify a possible cause of the failure. Click <a href='https://aka.ms/vscodeJupyterKernelCrash'>here</a> for more info. View Jupyter <a href='command:jupyter.viewOutput'>log</a> for further details."
     ]
    }
   ],
   "source": [
    "train_labels.shape"
   ]
  },
  {
   "cell_type": "code",
   "execution_count": 3,
   "metadata": {},
   "outputs": [
    {
     "ename": "ModuleNotFoundError",
     "evalue": "No module named 'nedc_debug_tools'",
     "output_type": "error",
     "traceback": [
      "\u001b[1;31m---------------------------------------------------------------------------\u001b[0m",
      "\u001b[1;31mModuleNotFoundError\u001b[0m                       Traceback (most recent call last)",
      "Cell \u001b[1;32mIn[3], line 1\u001b[0m\n\u001b[1;32m----> 1\u001b[0m \u001b[38;5;28;01mfrom\u001b[39;00m \u001b[38;5;21;01mnedc_pyprint_edf\u001b[39;00m \u001b[38;5;28;01mimport\u001b[39;00m nedc_pyprint_edf\n",
      "File \u001b[1;32me:\\Kaggle\\Hms-harmful-brain-activity-classification\\hms-harmful-brain-activity-classification-main\\nedc_pyprint_edf\\nedc_pyprint_edf.py:20\u001b[0m\n\u001b[0;32m     16\u001b[0m \u001b[38;5;28;01mimport\u001b[39;00m \u001b[38;5;21;01msys\u001b[39;00m\n\u001b[0;32m     18\u001b[0m \u001b[38;5;66;03m# import nedc_modules\u001b[39;00m\n\u001b[0;32m     19\u001b[0m \u001b[38;5;66;03m#\u001b[39;00m\n\u001b[1;32m---> 20\u001b[0m \u001b[38;5;28;01mimport\u001b[39;00m \u001b[38;5;21;01mnedc_debug_tools\u001b[39;00m \u001b[38;5;28;01mas\u001b[39;00m \u001b[38;5;21;01mndt\u001b[39;00m\n\u001b[0;32m     21\u001b[0m \u001b[38;5;28;01mimport\u001b[39;00m \u001b[38;5;21;01mnedc_edf_tools\u001b[39;00m \u001b[38;5;28;01mas\u001b[39;00m \u001b[38;5;21;01mnet\u001b[39;00m\n\u001b[0;32m     22\u001b[0m \u001b[38;5;28;01mimport\u001b[39;00m \u001b[38;5;21;01mnedc_file_tools\u001b[39;00m \u001b[38;5;28;01mas\u001b[39;00m \u001b[38;5;21;01mnft\u001b[39;00m\n",
      "\u001b[1;31mModuleNotFoundError\u001b[0m: No module named 'nedc_debug_tools'"
     ]
    }
   ],
   "source": [
    "from nedc_pyprint_edf import nedc_pyprint_edf"
   ]
  },
  {
   "cell_type": "code",
   "execution_count": null,
   "metadata": {},
   "outputs": [],
   "source": []
  }
 ],
 "metadata": {
  "kernelspec": {
   "display_name": "pytorch",
   "language": "python",
   "name": "python3"
  },
  "language_info": {
   "codemirror_mode": {
    "name": "ipython",
    "version": 3
   },
   "file_extension": ".py",
   "mimetype": "text/x-python",
   "name": "python",
   "nbconvert_exporter": "python",
   "pygments_lexer": "ipython3",
   "version": "3.9.15"
  }
 },
 "nbformat": 4,
 "nbformat_minor": 2
}
